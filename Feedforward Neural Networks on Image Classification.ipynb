{
 "cells": [
  {
   "cell_type": "markdown",
   "id": "091c956b",
   "metadata": {},
   "source": [
    "# Logistic Regression Transition to Neural Networks"
   ]
  },
  {
   "attachments": {},
   "cell_type": "markdown",
   "id": "75919c97",
   "metadata": {},
   "source": [
    "<div style=\"margin-left: auto; margin-right: 0;\">\n",
    "<img src=\"https://i.imgur.com/JjEyTlo.png\" width=\"800\"/>\n",
    "</div>"
   ]
  },
  {
   "cell_type": "markdown",
   "id": "1f3660f3",
   "metadata": {},
   "source": [
    "## Introduction to Non Linear Function"
   ]
  },
  {
   "cell_type": "markdown",
   "id": "6d91b94a",
   "metadata": {},
   "source": [
    "Function: takes a number & perform mathematical operation<br>\n",
    "Common Types of Non-linearity\n",
    "* ReLUs (Rectified Linear Units)\n",
    "* Sigmoid\n",
    "* Tanh"
   ]
  },
  {
   "attachments": {},
   "cell_type": "markdown",
   "id": "0bbd907a",
   "metadata": {},
   "source": [
    "<div style=\"margin-left: auto; margin-right: 0;\">\n",
    "<img src=\"https://i.imgur.com/SCcq269.png\" width=\"500\"/>\n",
    "</div>\n",
    "<div style=\"margin-left: auto; margin-right: 0;\">\n",
    "<img src=\"https://i.imgur.com/aen72pd.png\" width=\"500\"/>\n",
    "</div>\n",
    "<div style=\"margin-left: auto; margin-right: 0;\">\n",
    "<img src=\"https://i.imgur.com/sEcfpyv.png\" width=\"500\"/>\n",
    "</div>"
   ]
  },
  {
   "cell_type": "markdown",
   "id": "8f519444",
   "metadata": {},
   "source": [
    "## Building a Model with FNN"
   ]
  },
  {
   "cell_type": "code",
   "execution_count": 123,
   "id": "93b19682",
   "metadata": {},
   "outputs": [],
   "source": [
    "import torch\n",
    "import torchvision\n",
    "from torchvision.datasets import MNIST\n",
    "import torchvision.transforms as transforms\n",
    "from torch.utils.data import DataLoader\n",
    "import torch.nn as nn\n",
    "from torch.utils.data import random_split\n",
    "import matplotlib.pyplot as plt\n",
    "%matplotlib inline"
   ]
  },
  {
   "cell_type": "code",
   "execution_count": 125,
   "id": "ec624ad0",
   "metadata": {},
   "outputs": [],
   "source": [
    "dataset = MNIST(root = \"/data\", download = True)"
   ]
  },
  {
   "cell_type": "code",
   "execution_count": 126,
   "id": "abcea51a",
   "metadata": {},
   "outputs": [],
   "source": [
    "train_dataset = MNIST(root = \"/data\", train = True, transform = transforms.ToTensor())\n",
    "test_dataset = MNIST(root = \"/data\", train = False, transform = transforms.ToTensor())"
   ]
  },
  {
   "cell_type": "code",
   "execution_count": 127,
   "id": "42de23ab",
   "metadata": {},
   "outputs": [],
   "source": [
    "batch_size = 100\n",
    "num_epochs = 5\n",
    "iterations = len(train_ds) / batch_size * num_epochs"
   ]
  },
  {
   "cell_type": "code",
   "execution_count": 128,
   "id": "6619f066",
   "metadata": {},
   "outputs": [],
   "source": [
    "train_loader = DataLoader(train_dataset, batch_size, shuffle = True)\n",
    "test_loader = DataLoader(test_dataset, batch_size)"
   ]
  },
  {
   "cell_type": "markdown",
   "id": "0e676837",
   "metadata": {},
   "source": [
    "* FeedforwardNNModel with Sigmaoid"
   ]
  },
  {
   "cell_type": "code",
   "execution_count": null,
   "id": "7e7254e3",
   "metadata": {},
   "outputs": [],
   "source": [
    "class FeedforwardNNModel(nn.Module):\n",
    "    \n",
    "    def __init__(self, input_dim, hidden_dim, output_dim):\n",
    "        super(FeedforwardNNModel, self).__init__()\n",
    "        # Linearity\n",
    "        self.linear1 = nn.Linear(input_dim, hidden_dim)\n",
    "        # Non-Linearity\n",
    "        self.sigmoid = nn.Sigmoid()\n",
    "        # Linearity\n",
    "        self.linear2 = nn.Linear(hidden_dim, output_dim)\n",
    "        \n",
    "    def forward(self, x):\n",
    "        x = x.reshape(-1, 784)\n",
    "        out = self.linear1(x)\n",
    "        out = self.sigmoid(out)\n",
    "        out = self.linear2(out)\n",
    "        return out"
   ]
  },
  {
   "cell_type": "markdown",
   "id": "e2599f8b",
   "metadata": {},
   "source": [
    "* FeedforwardNNModel with tanh"
   ]
  },
  {
   "cell_type": "code",
   "execution_count": 116,
   "id": "13feb248",
   "metadata": {},
   "outputs": [],
   "source": [
    "class FeedforwardNNModel(nn.Module):\n",
    "    \n",
    "    def __init__(self, input_dim, hidden_dim, output_dim):\n",
    "        super(FeedforwardNNModel, self).__init__()\n",
    "        # Linearity\n",
    "        self.linear1 = nn.Linear(input_dim, hidden_dim)\n",
    "        # Non-Linearity\n",
    "        self.tanh = nn.Tanh()\n",
    "        # Linearity\n",
    "        self.linear2 = nn.Linear(hidden_dim, output_dim)\n",
    "        \n",
    "    def forward(self, x):\n",
    "        x = x.reshape(-1, 784)\n",
    "        out = self.linear1(x)\n",
    "        out = self.tanh(out)\n",
    "        out = self.linear2(out)\n",
    "        return out"
   ]
  },
  {
   "cell_type": "markdown",
   "id": "4be1f1a8",
   "metadata": {},
   "source": [
    "* FeedforwardNNModel with ReLU"
   ]
  },
  {
   "cell_type": "code",
   "execution_count": 129,
   "id": "3611b310",
   "metadata": {},
   "outputs": [],
   "source": [
    "class FeedforwardNNModel(nn.Module):\n",
    "    \n",
    "    def __init__(self, input_dim, hidden_dim, output_dim):\n",
    "        super(FeedforwardNNModel, self).__init__()\n",
    "        # Linearity\n",
    "        self.linear1 = nn.Linear(input_dim, hidden_dim)\n",
    "        # Non-Linearity\n",
    "        self.relu = nn.ReLU()\n",
    "        # Linearity\n",
    "        self.linear2 = nn.Linear(hidden_dim, output_dim)\n",
    "        \n",
    "    def forward(self, x):\n",
    "        x = x.reshape(-1, 784)\n",
    "        out = self.linear1(x)\n",
    "        out = self.relu(out)\n",
    "        out = self.linear2(out)\n",
    "        return out"
   ]
  },
  {
   "cell_type": "code",
   "execution_count": 130,
   "id": "f2a189eb",
   "metadata": {},
   "outputs": [],
   "source": [
    "input_dim = 28*28\n",
    "output_dim = 10\n",
    "# Can be any number - Number of non-linear activation functions\n",
    "hidden_dim = 100 \n",
    "model = FeedforwardNNModel(input_dim, hidden_dim, output_dim)"
   ]
  },
  {
   "cell_type": "code",
   "execution_count": 131,
   "id": "3bf1fe81",
   "metadata": {},
   "outputs": [],
   "source": [
    "#CrossEntropy function is used on Feedforward Neural Networks models same as Logistic Regression\n",
    "loss_fn = nn.CrossEntropyLoss()"
   ]
  },
  {
   "cell_type": "code",
   "execution_count": 132,
   "id": "d6019ad8",
   "metadata": {},
   "outputs": [],
   "source": [
    "optimizer = torch.optim.SGD(model.parameters(), 0.1)"
   ]
  },
  {
   "cell_type": "code",
   "execution_count": 133,
   "id": "1c1e15c0",
   "metadata": {},
   "outputs": [
    {
     "name": "stdout",
     "output_type": "stream",
     "text": [
      "Iterations : 500 Loss : 0.598150908946991 Accuracy : 84.0\n",
      "Iterations : 1000 Loss : 0.5032374858856201 Accuracy : 88.0\n",
      "Iterations : 1500 Loss : 0.509440541267395 Accuracy : 89.0\n",
      "Iterations : 2000 Loss : 0.2217351347208023 Accuracy : 91.0\n",
      "Iterations : 2500 Loss : 0.33716142177581787 Accuracy : 89.0\n",
      "Iterations : 3000 Loss : 0.43423205614089966 Accuracy : 89.0\n"
     ]
    }
   ],
   "source": [
    "iters = 0\n",
    "\n",
    "for epochs in range(num_epochs):\n",
    "    for images, labels in train_loader:\n",
    "        optimizer.zero_grad()\n",
    "        \n",
    "        predictions = model(images)\n",
    "        loss = loss_fn(predictions, labels)\n",
    "        \n",
    "        loss.backward()\n",
    "        optimizer.step()\n",
    "        \n",
    "        iters += 1\n",
    "        \n",
    "        if iters % 500 == 0:\n",
    "            correct = 0\n",
    "            accuracy = 0\n",
    "            for images, labels in test_loader:\n",
    "                predicts = model(images)\n",
    "                _, predicted = torch.max(predicts.data, 1)\n",
    "                total = labels.size(0)\n",
    "                correct = (predicted == labels).sum()\n",
    "                \n",
    "            accuracy = 100 * correct.item() / total\n",
    "            print(\"Iterations : {} Loss : {} Accuracy : {}\".format(iters,loss,accuracy))"
   ]
  },
  {
   "cell_type": "code",
   "execution_count": 134,
   "id": "eab3a009",
   "metadata": {},
   "outputs": [
    {
     "name": "stdout",
     "output_type": "stream",
     "text": [
      "True predicts : 5128 False Predicts : 372\n"
     ]
    }
   ],
   "source": [
    "#Testing\n",
    "trueval = 0\n",
    "for i in range(3500,9000):\n",
    "    pred = model(test_dataset[i][0].reshape(-1,784))\n",
    "    _, pred = torch.max(pred.data, 1)\n",
    "    image, label = test_dataset[i]\n",
    "    #print(\"Prediction : {} Label : {}\".format(int(pred),label))\n",
    "    if pred == label:\n",
    "        trueval += 1\n",
    "falseval = 5500 - trueval\n",
    "print(\"True predicts : {} False Predicts : {}\".format(trueval,falseval))"
   ]
  },
  {
   "cell_type": "markdown",
   "id": "e1965258",
   "metadata": {},
   "source": [
    "## Multilayered with ReLU Activation"
   ]
  },
  {
   "attachments": {},
   "cell_type": "markdown",
   "id": "0a45d25c",
   "metadata": {},
   "source": [
    "<div style=\"margin-left: auto; margin-right: 0;\">\n",
    "<img src=\"https://i.imgur.com/OC7bcd2.png\" width=\"800\"/>\n",
    "</div>"
   ]
  },
  {
   "cell_type": "markdown",
   "id": "4b19be97",
   "metadata": {},
   "source": [
    "* The difference on the class"
   ]
  },
  {
   "cell_type": "code",
   "execution_count": 137,
   "id": "14d0b771",
   "metadata": {},
   "outputs": [
    {
     "name": "stdout",
     "output_type": "stream",
     "text": [
      "Iterations : 500 Loss : 0.39323946833610535 Accuracy : 91.0\n",
      "Iterations : 1000 Loss : 0.19788116216659546 Accuracy : 90.0\n",
      "Iterations : 1500 Loss : 0.14391693472862244 Accuracy : 95.0\n",
      "Iterations : 2000 Loss : 0.079828642308712 Accuracy : 97.0\n",
      "Iterations : 2500 Loss : 0.026441384106874466 Accuracy : 97.0\n",
      "Iterations : 3000 Loss : 0.14507779479026794 Accuracy : 98.0\n"
     ]
    }
   ],
   "source": [
    "import torch\n",
    "import torchvision\n",
    "from torchvision.datasets import MNIST\n",
    "import torchvision.transforms as transforms\n",
    "from torch.utils.data import DataLoader\n",
    "import torch.nn as nn\n",
    "from torch.utils.data import random_split\n",
    "import matplotlib.pyplot as plt\n",
    "%matplotlib inline\n",
    "\n",
    "# 3 Layered Feedforward Neural Network Model with ReLU Activation\n",
    "class FeedforwardNNModel(nn.Module):\n",
    "    \n",
    "    def __init__(self, input_dim, hidden_dim, output_dim):\n",
    "        super(FeedforwardNNModel, self).__init__()\n",
    "        # Linear1\n",
    "        self.linear1 = nn.Linear(input_dim, hidden_dim)\n",
    "        # ReLU-1\n",
    "        self.relu1 = nn.ReLU()\n",
    "        \n",
    "        # Linear2\n",
    "        self.linear2 = nn.Linear(hidden_dim, hidden_dim)\n",
    "        # ReLU-2\n",
    "        self.relu2 = nn.ReLU()\n",
    "        \n",
    "        # Linear3\n",
    "        self.linear3 = nn.Linear(hidden_dim, hidden_dim)\n",
    "        # ReLU-3\n",
    "        self.relu3 = nn.ReLU()\n",
    "        \n",
    "        # Linear4 - readout\n",
    "        self.linear4 = nn.Linear(hidden_dim, output_dim)\n",
    "        \n",
    "    def forward(self, x):\n",
    "        x = x.reshape(-1, 784)\n",
    "        # First layer\n",
    "        out = self.linear1(x)\n",
    "        out = self.relu1(out)\n",
    "        # Second layer\n",
    "        out = self.linear2(out)\n",
    "        out = self.relu2(out)\n",
    "        # Third layer\n",
    "        out = self.linear3(out)\n",
    "        out = self.relu3(out)\n",
    "        # Output\n",
    "        out = self.linear4(out)\n",
    "        return out\n",
    "    \n",
    "dataset = MNIST(root = \"/data\", download = True)\n",
    "train_dataset = MNIST(root = \"/data\", train = True, transform = transforms.ToTensor())\n",
    "test_dataset = MNIST(root = \"/data\", train = False, transform = transforms.ToTensor())\n",
    "\n",
    "batch_size = 100\n",
    "num_epochs = 5\n",
    "iterations = len(train_ds) / batch_size * num_epochs\n",
    "train_loader = DataLoader(train_dataset, batch_size, shuffle = True)\n",
    "test_loader = DataLoader(test_dataset, batch_size)\n",
    "\n",
    "input_dim = 28*28\n",
    "output_dim = 10\n",
    "# Can be any number - Number of non-linear activation functions\n",
    "hidden_dim = 100 \n",
    "model = FeedforwardNNModel(input_dim, hidden_dim, output_dim)\n",
    "\n",
    "#CrossEntropy function is used on Feedforward Neural Networks models same as Logistic Regression\n",
    "loss_fn = nn.CrossEntropyLoss()\n",
    "learning_rate = 0.1\n",
    "optimizer = torch.optim.SGD(model.parameters(), learning_rate)\n",
    "\n",
    "iters = 0\n",
    "\n",
    "for epochs in range(num_epochs):\n",
    "    for images, labels in train_loader:\n",
    "        optimizer.zero_grad()\n",
    "        \n",
    "        predictions = model(images)\n",
    "        loss = loss_fn(predictions, labels)\n",
    "        \n",
    "        loss.backward()\n",
    "        optimizer.step()\n",
    "        \n",
    "        iters += 1\n",
    "        \n",
    "        if iters % 500 == 0:\n",
    "            correct = 0\n",
    "            accuracy = 0\n",
    "            for images, labels in test_loader:\n",
    "                predicts = model(images)\n",
    "                _, predicted = torch.max(predicts.data, 1)\n",
    "                total = labels.size(0)\n",
    "                correct = (predicted == labels).sum()\n",
    "                \n",
    "            accuracy = 100 * correct.item() / total\n",
    "            print(\"Iterations : {} Loss : {} Accuracy : {}\".format(iters,loss,accuracy))"
   ]
  },
  {
   "cell_type": "code",
   "execution_count": 140,
   "id": "d0867f89",
   "metadata": {},
   "outputs": [
    {
     "name": "stdout",
     "output_type": "stream",
     "text": [
      "True predicts : 5288 False Predicts : 212\n"
     ]
    }
   ],
   "source": [
    "#Testing\n",
    "trueval = 0\n",
    "for i in range(1000,6500):\n",
    "    pred = model(test_dataset[i][0].reshape(-1,784))\n",
    "    _, pred = torch.max(pred.data, 1)\n",
    "    image, label = test_dataset[i]\n",
    "    #print(\"Prediction : {} Label : {}\".format(int(pred),label))\n",
    "    if pred == label:\n",
    "        trueval += 1\n",
    "falseval = 5500 - trueval\n",
    "print(\"True predicts : {} False Predicts : {}\".format(trueval,falseval))"
   ]
  },
  {
   "cell_type": "markdown",
   "id": "8fff6c96",
   "metadata": {},
   "source": [
    "## Build a Feedforward Neural Network Model on the GPU with PyTorch"
   ]
  },
  {
   "cell_type": "markdown",
   "id": "fd70a33b",
   "metadata": {},
   "source": [
    "* These 2 things must on the GPU : model , tensors"
   ]
  },
  {
   "cell_type": "code",
   "execution_count": 144,
   "id": "467245c5",
   "metadata": {},
   "outputs": [
    {
     "name": "stdout",
     "output_type": "stream",
     "text": [
      "Iterations : 500 Loss : 0.34829938411712646 Accuracy : 87.0\n",
      "Iterations : 1000 Loss : 0.31291380524635315 Accuracy : 93.0\n",
      "Iterations : 1500 Loss : 0.1458321213722229 Accuracy : 93.0\n",
      "Iterations : 2000 Loss : 0.09422275424003601 Accuracy : 97.0\n",
      "Iterations : 2500 Loss : 0.12032126635313034 Accuracy : 98.0\n",
      "Iterations : 3000 Loss : 0.030636414885520935 Accuracy : 98.0\n"
     ]
    }
   ],
   "source": [
    "import torch\n",
    "import torchvision\n",
    "from torchvision.datasets import MNIST\n",
    "import torchvision.transforms as transforms\n",
    "from torch.utils.data import DataLoader\n",
    "import torch.nn as nn\n",
    "from torch.utils.data import random_split\n",
    "import matplotlib.pyplot as plt\n",
    "%matplotlib inline\n",
    "\n",
    "device = torch.device(\"cuda:0\" if torch.cuda.is_available() else \"cpu\")\n",
    "\n",
    "# GPU Model\n",
    "class FeedforwardNNModel(nn.Module):\n",
    "    \n",
    "    def __init__(self, input_dim, hidden_dim, output_dim):\n",
    "        super(FeedforwardNNModel, self).__init__()\n",
    "        # Linear1\n",
    "        self.linear1 = nn.Linear(input_dim, hidden_dim)\n",
    "        # ReLU-1\n",
    "        self.relu1 = nn.ReLU()\n",
    "        \n",
    "        # Linear2\n",
    "        self.linear2 = nn.Linear(hidden_dim, hidden_dim)\n",
    "        # ReLU-2\n",
    "        self.relu2 = nn.ReLU()\n",
    "        \n",
    "        # Linear3\n",
    "        self.linear3 = nn.Linear(hidden_dim, hidden_dim)\n",
    "        # ReLU-3\n",
    "        self.relu3 = nn.ReLU()\n",
    "        \n",
    "        # Linear4 - readout\n",
    "        self.linear4 = nn.Linear(hidden_dim, output_dim)\n",
    "        \n",
    "    def forward(self, x):\n",
    "        x = x.reshape(-1, 784)\n",
    "        # First layer\n",
    "        out = self.linear1(x)\n",
    "        out = self.relu1(out)\n",
    "        # Second layer\n",
    "        out = self.linear2(out)\n",
    "        out = self.relu2(out)\n",
    "        # Third layer\n",
    "        out = self.linear3(out)\n",
    "        out = self.relu3(out)\n",
    "        # Output\n",
    "        out = self.linear4(out)\n",
    "        return out\n",
    "    \n",
    "dataset = MNIST(root = \"/data\", download = True)\n",
    "train_dataset = MNIST(root = \"/data\", train = True, transform = transforms.ToTensor())\n",
    "test_dataset = MNIST(root = \"/data\", train = False, transform = transforms.ToTensor())\n",
    "\n",
    "batch_size = 100\n",
    "num_epochs = 5\n",
    "iterations = len(train_ds) / batch_size * num_epochs\n",
    "train_loader = DataLoader(train_dataset, batch_size, shuffle = True)\n",
    "test_loader = DataLoader(test_dataset, batch_size)\n",
    "\n",
    "input_dim = 28*28\n",
    "output_dim = 10\n",
    "# Can be any number - Number of non-linear activation functions\n",
    "hidden_dim = 100 \n",
    "model = FeedforwardNNModel(input_dim, hidden_dim, output_dim)\n",
    "model.to(device)\n",
    "\n",
    "#CrossEntropy function is used on Feedforward Neural Networks models same as Logistic Regression\n",
    "loss_fn = nn.CrossEntropyLoss()\n",
    "learning_rate = 0.1\n",
    "optimizer = torch.optim.SGD(model.parameters(), learning_rate)\n",
    "\n",
    "iters = 0\n",
    "\n",
    "for epochs in range(num_epochs):\n",
    "    for images, labels in train_loader:\n",
    "        \n",
    "        images = images.to(device)\n",
    "        labels = labels.to(device)\n",
    "        \n",
    "        optimizer.zero_grad()\n",
    "        \n",
    "        predictions = model(images)\n",
    "        loss = loss_fn(predictions, labels)\n",
    "        \n",
    "        loss.backward()\n",
    "        optimizer.step()\n",
    "        \n",
    "        iters += 1\n",
    "        \n",
    "        if iters % 500 == 0:\n",
    "            correct = 0\n",
    "            accuracy = 0\n",
    "            for images, labels in test_loader:\n",
    "                images = images.to(device)\n",
    "                \n",
    "                predicts = model(images)\n",
    "                _, predicted = torch.max(predicts.data, 1)\n",
    "                total = labels.size(0)\n",
    "                if torch.cuda.is_available():\n",
    "                    correct = (predicted.cpu() == labels.cpu()).sum()\n",
    "                else:\n",
    "                    correct = (predicted == labels).sum()\n",
    "                \n",
    "            accuracy = 100 * correct.item() / total\n",
    "            print(\"Iterations : {} Loss : {} Accuracy : {}\".format(iters,loss,accuracy))"
   ]
  },
  {
   "cell_type": "code",
   "execution_count": 147,
   "id": "f9500473",
   "metadata": {},
   "outputs": [
    {
     "name": "stdout",
     "output_type": "stream",
     "text": [
      "True predicts : 5354 False Predicts : 146\n"
     ]
    }
   ],
   "source": [
    "#Testing\n",
    "trueval = 0\n",
    "for i in range(3500,9000):\n",
    "    images = test_dataset[i][0].to(device)\n",
    "    pred = model(images.reshape(-1,784))\n",
    "    _, pred = torch.max(pred.data, 1)\n",
    "    image, label = test_dataset[i]\n",
    "    #print(\"Prediction : {} Label : {}\".format(int(pred),label))\n",
    "    if pred == label:\n",
    "        trueval += 1\n",
    "falseval = 5500 - trueval\n",
    "print(\"True predicts : {} False Predicts : {}\".format(trueval,falseval))"
   ]
  },
  {
   "cell_type": "code",
   "execution_count": null,
   "id": "a055be7e",
   "metadata": {},
   "outputs": [],
   "source": []
  }
 ],
 "metadata": {
  "kernelspec": {
   "display_name": "Python 3 (ipykernel)",
   "language": "python",
   "name": "python3"
  },
  "language_info": {
   "codemirror_mode": {
    "name": "ipython",
    "version": 3
   },
   "file_extension": ".py",
   "mimetype": "text/x-python",
   "name": "python",
   "nbconvert_exporter": "python",
   "pygments_lexer": "ipython3",
   "version": "3.9.12"
  }
 },
 "nbformat": 4,
 "nbformat_minor": 5
}
